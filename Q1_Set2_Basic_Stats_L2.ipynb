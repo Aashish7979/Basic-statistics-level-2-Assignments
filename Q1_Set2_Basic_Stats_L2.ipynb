{
 "cells": [
  {
   "cell_type": "markdown",
   "id": "33bc59af",
   "metadata": {},
   "source": [
    "The time required for servicing transmissions is normally distributed with µ = 45 minutes and σ = 8 minutes. The service manager plans to have work begin on the transmission of a customer’s car 10 minutes after the car is dropped off and the customer is told that the car will be ready within 1 hour from drop-off. What is the probability that the service manager cannot meet his commitment?\n"
   ]
  },
  {
   "cell_type": "code",
   "execution_count": 1,
   "id": "4da76680",
   "metadata": {
    "ExecuteTime": {
     "end_time": "2021-09-11T11:56:47.813453Z",
     "start_time": "2021-09-11T11:56:47.529465Z"
    }
   },
   "outputs": [],
   "source": [
    "from scipy import stats\n",
    "from scipy.stats import norm"
   ]
  },
  {
   "cell_type": "markdown",
   "id": "7d42939b",
   "metadata": {},
   "source": [
    "Let 'X' be the amount of time it takes to complete the repair on a customer's car. So the Probability of completing the car repair with 1 hr of dropping the car and starting the work after 10 mins of car drop (60 mins - 10 mins) is P(X<=50 mins) So, P(X>50) = 1-P(X<=50) i.e. cannot meet his commitment"
   ]
  },
  {
   "cell_type": "code",
   "execution_count": 2,
   "id": "f3280c66",
   "metadata": {
    "ExecuteTime": {
     "end_time": "2021-09-11T11:57:14.155063Z",
     "start_time": "2021-09-11T11:57:14.138025Z"
    }
   },
   "outputs": [
    {
     "data": {
      "text/plain": [
       "0.625"
      ]
     },
     "execution_count": 2,
     "metadata": {},
     "output_type": "execute_result"
    }
   ],
   "source": [
    "# Find Z-Scores at X=50; Z = (X - µ) / σ \n",
    "Z=(50-45)/8\n",
    "Z"
   ]
  },
  {
   "cell_type": "code",
   "execution_count": 3,
   "id": "cabb5c0c",
   "metadata": {
    "ExecuteTime": {
     "end_time": "2021-09-11T11:57:21.577801Z",
     "start_time": "2021-09-11T11:57:21.569804Z"
    }
   },
   "outputs": [
    {
     "data": {
      "text/plain": [
       "0.26598552904870054"
      ]
     },
     "execution_count": 3,
     "metadata": {},
     "output_type": "execute_result"
    }
   ],
   "source": [
    "# Find probability P(X>50) = 1-stats.norm.cdf(abs(z_score))\n",
    "1-stats.norm.cdf(abs(0.625))"
   ]
  },
  {
   "cell_type": "code",
   "execution_count": 4,
   "id": "d93c032c",
   "metadata": {
    "ExecuteTime": {
     "end_time": "2021-09-11T11:57:29.842115Z",
     "start_time": "2021-09-11T11:57:29.834118Z"
    },
    "scrolled": true
   },
   "outputs": [
    {
     "data": {
      "text/plain": [
       "0.7340144709512995"
      ]
     },
     "execution_count": 4,
     "metadata": {},
     "output_type": "execute_result"
    }
   ],
   "source": [
    "# OR Find probability P(X<=50); p_value=stats.norm.cdf(abs(z_score))  \n",
    "p_value=stats.norm.cdf(abs(0.625)) \n",
    "p_value"
   ]
  },
  {
   "cell_type": "code",
   "execution_count": 5,
   "id": "d6bdcffc",
   "metadata": {
    "ExecuteTime": {
     "end_time": "2021-09-11T11:57:38.702512Z",
     "start_time": "2021-09-11T11:57:38.678411Z"
    }
   },
   "outputs": [
    {
     "data": {
      "text/plain": [
       "0.266"
      ]
     },
     "execution_count": 5,
     "metadata": {},
     "output_type": "execute_result"
    }
   ],
   "source": [
    "# P(X>50) = 1 - P(X<=50)\n",
    "1-0.734"
   ]
  },
  {
   "cell_type": "markdown",
   "id": "9dec5b67",
   "metadata": {},
   "source": [
    "We have a normal distribution with   = 45 and   = 8.0. Let X  be the amount of time it takes to complete the repair on a customer's car. To finish in one hour you must have X ≤ 50 so the question is to find Pr(X > 50).Pr(X > 50) = 1 -Pr(X ≤ 50).Z = (X -)/  = (X -45)/8.0Thus the question can be answered by using the normal table to findPr(X ≤ 50) = Pr(Z ≤ (50 -45)/8.0) = Pr(Z ≤ 0.625)=73.4%Probability that the service manager will not meet his demand will be = 100-73.4 = 26.6% or 0.2676"
   ]
  }
 ],
 "metadata": {
  "kernelspec": {
   "display_name": "Python 3",
   "language": "python",
   "name": "python3"
  },
  "language_info": {
   "codemirror_mode": {
    "name": "ipython",
    "version": 3
   },
   "file_extension": ".py",
   "mimetype": "text/x-python",
   "name": "python",
   "nbconvert_exporter": "python",
   "pygments_lexer": "ipython3",
   "version": "3.8.8"
  },
  "varInspector": {
   "cols": {
    "lenName": 16,
    "lenType": 16,
    "lenVar": 40
   },
   "kernels_config": {
    "python": {
     "delete_cmd_postfix": "",
     "delete_cmd_prefix": "del ",
     "library": "var_list.py",
     "varRefreshCmd": "print(var_dic_list())"
    },
    "r": {
     "delete_cmd_postfix": ") ",
     "delete_cmd_prefix": "rm(",
     "library": "var_list.r",
     "varRefreshCmd": "cat(var_dic_list()) "
    }
   },
   "types_to_exclude": [
    "module",
    "function",
    "builtin_function_or_method",
    "instance",
    "_Feature"
   ],
   "window_display": false
  }
 },
 "nbformat": 4,
 "nbformat_minor": 5
}
