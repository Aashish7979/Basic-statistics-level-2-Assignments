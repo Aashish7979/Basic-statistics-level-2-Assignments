{
 "cells": [
  {
   "cell_type": "markdown",
   "id": "4dd46397",
   "metadata": {},
   "source": [
    "Q) In January 2005, a company that monitors Internet traffic (WebSideStory) reported that its sampling revealed that the Mozilla Firefox browser launched in 2004 had grabbed a 4.6% share of the market.\n",
    "\n",
    "I.\tIf the sample were based on 2,000 users, could Microsoft conclude that Mozilla has a less than 5% share of the market?\n",
    "\n",
    "II.\tWebSideStory claims that its sample includes all the daily Internet users. If that’s the case, then can Microsoft conclude that Mozilla has a less than 5% share of the market?\n"
   ]
  },
  {
   "cell_type": "code",
   "execution_count": 1,
   "id": "fdf0388a",
   "metadata": {
    "ExecuteTime": {
     "end_time": "2021-09-11T10:20:18.449319Z",
     "start_time": "2021-09-11T10:20:18.434132Z"
    }
   },
   "outputs": [],
   "source": [
    "import numpy as np\n",
    "from scipy import stats\n",
    "from scipy.stats import norm"
   ]
  },
  {
   "cell_type": "markdown",
   "id": "86bcb0bb",
   "metadata": {},
   "source": [
    "I.\tIf the sample were based on 2,000 users, could Microsoft conclude that Mozilla has a less than 5% share of the market?"
   ]
  },
  {
   "cell_type": "markdown",
   "id": "d3ea6167",
   "metadata": {
    "ExecuteTime": {
     "end_time": "2021-09-11T10:21:41.712447Z",
     "start_time": "2021-09-11T10:21:41.707399Z"
    }
   },
   "source": [
    "# Apply One-Sample One-Tail z-test\n",
    "calculate z-score or value z_scores = (p̂-p)/√(p(1-p)/n) ...N(0,1)"
   ]
  },
  {
   "cell_type": "code",
   "execution_count": 5,
   "id": "d4a72d5f",
   "metadata": {
    "ExecuteTime": {
     "end_time": "2021-09-11T10:22:08.218967Z",
     "start_time": "2021-09-11T10:22:08.209997Z"
    }
   },
   "outputs": [
    {
     "data": {
      "text/plain": [
       "-0.820782681668124"
      ]
     },
     "execution_count": 5,
     "metadata": {},
     "output_type": "execute_result"
    }
   ],
   "source": [
    "z_scores=(0.046-0.05)/(np.sqrt((0.05*(1-0.05))/2000))\n",
    "z_scores"
   ]
  },
  {
   "cell_type": "markdown",
   "id": "30f5a1bf",
   "metadata": {},
   "source": [
    "# Find Probability assuming null hyposthesis, so as to compare with Type-1 error α = 0.05"
   ]
  },
  {
   "cell_type": "code",
   "execution_count": 6,
   "id": "e808ce17",
   "metadata": {
    "ExecuteTime": {
     "end_time": "2021-09-11T10:22:30.796719Z",
     "start_time": "2021-09-11T10:22:30.774240Z"
    }
   },
   "outputs": [
    {
     "data": {
      "text/plain": [
       "0.20588503245107104"
      ]
     },
     "execution_count": 6,
     "metadata": {},
     "output_type": "execute_result"
    }
   ],
   "source": [
    "p_value=1-stats.norm.cdf(abs(z_scores))\n",
    "p_value"
   ]
  },
  {
   "cell_type": "markdown",
   "id": "be2db3bf",
   "metadata": {},
   "source": [
    "As (p_value = 0.2058) > (α = 0.05) ; Accept Null Hypothesis i.e. Mozilla market share > 5% Thus, Microsoft can not conclude that Mozilla has a less than 5% share of the marketII. WebSideStory claims that its sample includes all the daily Internet users. If that’s the case, then can Microsoft conclude that Mozilla has a less than 5% share of the market?We are given that WebSideStory claims that its sample includes all the daily Internet users. This means that the 4.6% is the population percentage. Comparing it with Microsoft's claim that Mozilla has a less than 5% share of the whole market is True. Hence, we can conclude that Mozilla has a less than 5% share of the market."
   ]
  }
 ],
 "metadata": {
  "kernelspec": {
   "display_name": "Python 3",
   "language": "python",
   "name": "python3"
  },
  "language_info": {
   "codemirror_mode": {
    "name": "ipython",
    "version": 3
   },
   "file_extension": ".py",
   "mimetype": "text/x-python",
   "name": "python",
   "nbconvert_exporter": "python",
   "pygments_lexer": "ipython3",
   "version": "3.8.8"
  },
  "varInspector": {
   "cols": {
    "lenName": 16,
    "lenType": 16,
    "lenVar": 40
   },
   "kernels_config": {
    "python": {
     "delete_cmd_postfix": "",
     "delete_cmd_prefix": "del ",
     "library": "var_list.py",
     "varRefreshCmd": "print(var_dic_list())"
    },
    "r": {
     "delete_cmd_postfix": ") ",
     "delete_cmd_prefix": "rm(",
     "library": "var_list.r",
     "varRefreshCmd": "cat(var_dic_list()) "
    }
   },
   "types_to_exclude": [
    "module",
    "function",
    "builtin_function_or_method",
    "instance",
    "_Feature"
   ],
   "window_display": false
  }
 },
 "nbformat": 4,
 "nbformat_minor": 5
}
